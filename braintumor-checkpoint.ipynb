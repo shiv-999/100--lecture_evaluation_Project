{
 "cells": [
  {
   "cell_type": "code",
   "execution_count": 1,
   "metadata": {
    "id": "fOGai8_BZ1yL"
   },
   "outputs": [],
   "source": [
    "import os\n",
    "import tensorflow as tf\n",
    "from tensorflow.keras.models import Sequential\n",
    "from tensorflow.keras.layers import Conv2D, MaxPooling2D, Flatten, Dense\n",
    "from tensorflow.keras.preprocessing.image import ImageDataGenerator"
   ]
  },
  {
   "cell_type": "code",
   "execution_count": 2,
   "metadata": {
    "id": "pyxd8LMpZ1yQ"
   },
   "outputs": [
    {
     "ename": "SyntaxError",
     "evalue": "(unicode error) 'unicodeescape' codec can't decode bytes in position 2-3: truncated \\UXXXXXXXX escape (3540657077.py, line 2)",
     "output_type": "error",
     "traceback": [
      "\u001b[1;36m  Cell \u001b[1;32mIn[2], line 2\u001b[1;36m\u001b[0m\n\u001b[1;33m    train_data_dir = \"C:\\Users\\SHIVAM\\Desktop\\Brain tumor detection\\Training\"\u001b[0m\n\u001b[1;37m                                                                             ^\u001b[0m\n\u001b[1;31mSyntaxError\u001b[0m\u001b[1;31m:\u001b[0m (unicode error) 'unicodeescape' codec can't decode bytes in position 2-3: truncated \\UXXXXXXXX escape\n"
     ]
    }
   ],
   "source": [
    "\n",
    "# Set the paths to the training and testing datasets\n",
    "train_data_dir = \"C:\\Users\\SHIVAM\\Desktop\\Brain tumor detection\\Training\"\n",
    "test_data_dir = \"C:\\Users\\SHIVAM\\Desktop\\Brain tumor detection\\Testing\"\n"
   ]
  },
  {
   "cell_type": "code",
   "execution_count": null,
   "metadata": {
    "id": "hQp6-jEFZ1yR"
   },
   "outputs": [],
   "source": [
    "# Set the input shape of the images\n",
    "input_shape = (150, 150, 3)  # Adjust the dimensions as per your dataset"
   ]
  },
  {
   "cell_type": "code",
   "execution_count": null,
   "metadata": {
    "id": "kdk5SDJXZ1yR"
   },
   "outputs": [],
   "source": [
    "# Set the number of classes\n",
    "num_classes = 4  # glioma_tumor, meningioma_tumor, pituitary_tumor, no_tumor"
   ]
  },
  {
   "cell_type": "code",
   "execution_count": null,
   "metadata": {
    "id": "DKwGEqHZZ1yS"
   },
   "outputs": [],
   "source": [
    "# Set the batch size and number of epochs\n",
    "batch_size = 17\n",
    "epochs = 20"
   ]
  },
  {
   "cell_type": "code",
   "execution_count": null,
   "metadata": {
    "id": "FNAcXPrGZ1yT"
   },
   "outputs": [],
   "source": [
    "train_datagen = ImageDataGenerator(\n",
    "    rescale=1.0 / 255,  # Normalize pixel values to [0, 1]\n",
    "    rotation_range=15,  # Randomly rotate images\n",
    "    width_shift_range=0.1,  # Randomly shift images horizontally\n",
    "    height_shift_range=0.1,  # Randomly shift images vertically\n",
    "    shear_range=0.1,  # Apply shear transformation\n",
    "    zoom_range=0.1,  # Apply zoom transformation\n",
    "    horizontal_flip=True,  # Flip images horizontally\n",
    "    fill_mode=\"nearest\"  # Fill missing pixels after transformation\n",
    ")"
   ]
  },
  {
   "cell_type": "code",
   "execution_count": null,
   "metadata": {
    "id": "RwEIGz98Z1yU"
   },
   "outputs": [],
   "source": [
    "test_datagen = ImageDataGenerator(rescale=1.0 / 255)\n"
   ]
  },
  {
   "cell_type": "code",
   "execution_count": null,
   "metadata": {
    "id": "secnOnOxZ1yU",
    "outputId": "22d83bf1-f1c9-4d4d-9048-74376dd8dbec"
   },
   "outputs": [
    {
     "name": "stdout",
     "output_type": "stream",
     "text": [
      "Found 2870 images belonging to 4 classes.\n"
     ]
    }
   ],
   "source": [
    "# Load the training dataset\n",
    "train_dataset = train_datagen.flow_from_directory(\n",
    "    train_data_dir,\n",
    "    target_size=input_shape[:2],\n",
    "    batch_size=batch_size,\n",
    "    class_mode='categorical'\n",
    ")"
   ]
  },
  {
   "cell_type": "code",
   "execution_count": null,
   "metadata": {
    "id": "4HTxREy2Z1yV",
    "outputId": "bff4c0f1-549c-49dd-c894-dfd3d6ae9511"
   },
   "outputs": [
    {
     "name": "stdout",
     "output_type": "stream",
     "text": [
      "Found 394 images belonging to 4 classes.\n"
     ]
    }
   ],
   "source": [
    "\n",
    "# Load the testing dataset\n",
    "test_dataset = test_datagen.flow_from_directory(\n",
    "    test_data_dir,\n",
    "    target_size=input_shape[:2],\n",
    "    batch_size=batch_size,\n",
    "    class_mode='categorical'\n",
    ")"
   ]
  },
  {
   "cell_type": "code",
   "execution_count": null,
   "metadata": {
    "id": "q8LRoeE7Z1yW"
   },
   "outputs": [],
   "source": [
    "# Build the CNN model\n",
    "model = Sequential()\n",
    "model.add(Conv2D(32, kernel_size=(3, 3), activation='relu', input_shape=input_shape))\n",
    "model.add(MaxPooling2D(pool_size=(2, 2)))\n",
    "model.add(Conv2D(64, kernel_size=(3, 3), activation='relu'))\n",
    "model.add(MaxPooling2D(pool_size=(2, 2)))\n",
    "model.add(Conv2D(128, kernel_size=(3, 3), activation='relu'))\n",
    "model.add(MaxPooling2D(pool_size=(2, 2)))\n",
    "model.add(Flatten())\n",
    "model.add(Dense(256, activation='relu'))\n",
    "model.add(Dense(num_classes, activation='softmax'))"
   ]
  },
  {
   "cell_type": "code",
   "execution_count": null,
   "metadata": {
    "id": "HX5eslSyZ1yX"
   },
   "outputs": [],
   "source": [
    "\n",
    "model.compile(optimizer='adam', loss='categorical_crossentropy', metrics=['accuracy'])"
   ]
  },
  {
   "cell_type": "code",
   "execution_count": null,
   "metadata": {
    "id": "D0yS89bfZ1yX",
    "outputId": "85ab9375-7c88-4b9b-8db3-6792cbdb6d29"
   },
   "outputs": [
    {
     "name": "stdout",
     "output_type": "stream",
     "text": [
      "Epoch 1/20\n",
      "180/180 [==============================] - 70s 387ms/step - loss: 1.1741 - accuracy: 0.4693\n",
      "Epoch 2/20\n",
      "180/180 [==============================] - 68s 379ms/step - loss: 0.8995 - accuracy: 0.6153\n",
      "Epoch 3/20\n",
      "180/180 [==============================] - 69s 384ms/step - loss: 0.8053 - accuracy: 0.6547\n",
      "Epoch 4/20\n",
      "180/180 [==============================] - 989s 6s/step - loss: 0.7264 - accuracy: 0.6882\n",
      "Epoch 5/20\n",
      "180/180 [==============================] - 96s 535ms/step - loss: 0.6804 - accuracy: 0.6993\n",
      "Epoch 6/20\n",
      "180/180 [==============================] - 85s 474ms/step - loss: 0.6405 - accuracy: 0.7279\n",
      "Epoch 7/20\n",
      "180/180 [==============================] - 72s 397ms/step - loss: 0.5889 - accuracy: 0.7498\n",
      "Epoch 8/20\n",
      "180/180 [==============================] - 67s 371ms/step - loss: 0.5319 - accuracy: 0.7763\n",
      "Epoch 9/20\n",
      "180/180 [==============================] - 67s 371ms/step - loss: 0.5122 - accuracy: 0.7906\n",
      "Epoch 10/20\n",
      "180/180 [==============================] - 67s 374ms/step - loss: 0.5055 - accuracy: 0.7878\n",
      "Epoch 11/20\n",
      "180/180 [==============================] - 68s 378ms/step - loss: 0.4661 - accuracy: 0.8132\n",
      "Epoch 12/20\n",
      "180/180 [==============================] - 69s 383ms/step - loss: 0.4230 - accuracy: 0.8307\n",
      "Epoch 13/20\n",
      "180/180 [==============================] - 69s 382ms/step - loss: 0.4152 - accuracy: 0.8265\n",
      "Epoch 14/20\n",
      "180/180 [==============================] - 69s 380ms/step - loss: 0.3978 - accuracy: 0.8425\n",
      "Epoch 15/20\n",
      "180/180 [==============================] - 69s 380ms/step - loss: 0.3715 - accuracy: 0.8554\n",
      "Epoch 16/20\n",
      "180/180 [==============================] - 69s 382ms/step - loss: 0.3603 - accuracy: 0.8603\n",
      "Epoch 17/20\n",
      "180/180 [==============================] - 69s 381ms/step - loss: 0.3349 - accuracy: 0.8652\n",
      "Epoch 18/20\n",
      "180/180 [==============================] - 69s 382ms/step - loss: 0.3140 - accuracy: 0.8767\n",
      "Epoch 19/20\n",
      "180/180 [==============================] - 69s 384ms/step - loss: 0.3153 - accuracy: 0.8753\n",
      "Epoch 20/20\n",
      "180/180 [==============================] - 69s 384ms/step - loss: 0.3035 - accuracy: 0.8822\n"
     ]
    },
    {
     "data": {
      "text/plain": [
       "<keras.callbacks.History at 0x22be4f8f550>"
      ]
     },
     "execution_count": 47,
     "metadata": {},
     "output_type": "execute_result"
    }
   ],
   "source": [
    "model.fit(train_dataset, epochs=epochs)"
   ]
  },
  {
   "cell_type": "code",
   "execution_count": null,
   "metadata": {
    "id": "W9ktp1bXZ1yY",
    "outputId": "ad7e328f-c6f7-4267-fb58-b2320a3400e0"
   },
   "outputs": [
    {
     "name": "stdout",
     "output_type": "stream",
     "text": [
      "25/25 [==============================] - 3s 85ms/step - loss: 4.2888 - accuracy: 0.5838\n",
      "Test Loss: 4.288800239562988\n",
      "Test Accuracy: 0.5837563276290894\n"
     ]
    }
   ],
   "source": [
    "test_loss, test_accuracy = model.evaluate(test_dataset)\n",
    "print(\"Test Loss:\", test_loss)\n",
    "print(\"Test Accuracy:\", test_accuracy)"
   ]
  },
  {
   "cell_type": "code",
   "execution_count": null,
   "metadata": {
    "id": "jizg-J1tZ1yY",
    "outputId": "fc79ff92-38dd-47e2-8934-7b66e655db11"
   },
   "outputs": [
    {
     "name": "stdout",
     "output_type": "stream",
     "text": [
      "Model saved successfully.\n"
     ]
    }
   ],
   "source": [
    "# Define the path to save the model\n",
    "model_path = \"C:\\\\Users\\\\shivam\\\\proj_proj\\\\Brain tumor\\\\model.h5\"  # Replace with your desired path and file name\n",
    "\n",
    "# Save the model\n",
    "model.save(model_path)\n",
    "\n",
    "print(\"Model saved successfully.\")"
   ]
  },
  {
   "cell_type": "code",
   "execution_count": 1,
   "metadata": {
    "id": "PGHAcmG8Z1yY",
    "outputId": "fd1876b4-08e2-4ae9-856a-fafd8c278726"
   },
   "outputs": [
    {
     "ename": "ModuleNotFoundError",
     "evalue": "No module named 'numpy'",
     "output_type": "error",
     "traceback": [
      "\u001b[1;31m---------------------------------------------------------------------------\u001b[0m",
      "\u001b[1;31mModuleNotFoundError\u001b[0m                       Traceback (most recent call last)",
      "\u001b[1;32mc:\\Users\\SHIVAM\\Desktop\\Brain tumor detection\\.ipynb_checkpoints\\braintumor-checkpoint.ipynb Cell 15\u001b[0m line \u001b[0;36m2\n\u001b[0;32m      <a href='vscode-notebook-cell:/c%3A/Users/ADITYA/Desktop/Brain%20tumor%20detection/.ipynb_checkpoints/braintumor-checkpoint.ipynb#X20sZmlsZQ%3D%3D?line=0'>1</a>\u001b[0m \u001b[39mimport\u001b[39;00m \u001b[39mos\u001b[39;00m\n\u001b[1;32m----> <a href='vscode-notebook-cell:/c%3A/Users/ADITYA/Desktop/Brain%20tumor%20detection/.ipynb_checkpoints/braintumor-checkpoint.ipynb#X20sZmlsZQ%3D%3D?line=1'>2</a>\u001b[0m \u001b[39mimport\u001b[39;00m \u001b[39mnumpy\u001b[39;00m \u001b[39mas\u001b[39;00m \u001b[39mnp\u001b[39;00m\n\u001b[0;32m      <a href='vscode-notebook-cell:/c%3A/Users/ADITYA/Desktop/Brain%20tumor%20detection/.ipynb_checkpoints/braintumor-checkpoint.ipynb#X20sZmlsZQ%3D%3D?line=2'>3</a>\u001b[0m \u001b[39mimport\u001b[39;00m \u001b[39mtensorflow\u001b[39;00m \u001b[39mas\u001b[39;00m \u001b[39mtf\u001b[39;00m\n\u001b[0;32m      <a href='vscode-notebook-cell:/c%3A/Users/ADITYA/Desktop/Brain%20tumor%20detection/.ipynb_checkpoints/braintumor-checkpoint.ipynb#X20sZmlsZQ%3D%3D?line=3'>4</a>\u001b[0m \u001b[39mfrom\u001b[39;00m \u001b[39mtensorflow\u001b[39;00m\u001b[39m.\u001b[39;00m\u001b[39mkeras\u001b[39;00m\u001b[39m.\u001b[39;00m\u001b[39mmodels\u001b[39;00m \u001b[39mimport\u001b[39;00m load_model\n",
      "\u001b[1;31mModuleNotFoundError\u001b[0m: No module named 'numpy'"
     ]
    }
   ],
   "source": [
    "import os\n",
    "import numpy as np\n",
    "import tensorflow as tf\n",
    "from tensorflow.keras.models import load_model\n",
    "from tensorflow.keras.preprocessing.image import load_img, img_to_array\n",
    "\n",
    "# Set the path to the saved model\n",
    "model_path = \"C:\\\\Users\\\\shivam\\\\proj_proj\\\\Brain tumor\\\\model.h5\"  # Replace with your desired path and file name\n",
    "\n",
    "\n",
    "# Set the input shape of the images\n",
    "input_shape = (150, 150, 3)  # Adjust the dimensions as per your dataset\n",
    "\n",
    "# Set the class labels\n",
    "class_labels = [\"glioma_tumor\", \"meningioma_tumor\", \"no_tumor\", \"pituitary_tumor\"]\n",
    "\n",
    "# Load the saved model\n",
    "model = load_model(model_path)\n",
    "\n",
    "# Function to preprocess the input image\n",
    "def preprocess_image(image_path, input_shape):\n",
    "    img = load_img(image_path, target_size=input_shape[:2])\n",
    "    img_array = img_to_array(img)\n",
    "    img_array = np.expand_dims(img_array, axis=0)\n",
    "    img_array /= 255.0  # Normalize pixel values to [0, 1]\n",
    "    return img_array\n",
    "\n",
    "# Set the path to the image you want to predict\n",
    "image_path = \"C:\\\\Users\\\\shivam\\\\proj_proj\\\\Brain tumor\\\\Testing\\\\glioma_tumor\\\\image(7).jpg\"  # Replace with the path to your test image\n",
    "\n",
    "# Preprocess the image\n",
    "input_image = preprocess_image(image_path, input_shape)\n",
    "\n",
    "# Make predictions\n",
    "predictions = model.predict(input_image)\n",
    "\n",
    "# Get the predicted class label\n",
    "predicted_class_index = np.argmax(predictions[0])\n",
    "predicted_class = class_labels[predicted_class_index]\n",
    "\n",
    "# Print the predicted class label\n",
    "print(\"Predicted class:\", predicted_class)\n"
   ]
  }
 ],
 "metadata": {
  "colab": {
   "provenance": []
  },
  "kernelspec": {
   "display_name": "Python 3 (ipykernel)",
   "language": "python",
   "name": "python3"
  },
  "language_info": {
   "codemirror_mode": {
    "name": "ipython",
    "version": 3
   },
   "file_extension": ".py",
   "mimetype": "text/x-python",
   "name": "python",
   "nbconvert_exporter": "python",
   "pygments_lexer": "ipython3",
   "version": "3.9.5"
  }
 },
 "nbformat": 4,
 "nbformat_minor": 1
}
